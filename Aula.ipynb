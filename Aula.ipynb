{
  "nbformat": 4,
  "nbformat_minor": 0,
  "metadata": {
    "colab": {
      "provenance": [],
      "authorship_tag": "ABX9TyOWjfw40orTOA2GH0nrOipx",
      "include_colab_link": true
    },
    "kernelspec": {
      "name": "python3",
      "display_name": "Python 3"
    },
    "language_info": {
      "name": "python"
    }
  },
  "cells": [
    {
      "cell_type": "markdown",
      "metadata": {
        "id": "view-in-github",
        "colab_type": "text"
      },
      "source": [
        "<a href=\"https://colab.research.google.com/github/deboraheinig/googleCollab/blob/main/Aula.ipynb\" target=\"_parent\"><img src=\"https://colab.research.google.com/assets/colab-badge.svg\" alt=\"Open In Colab\"/></a>"
      ]
    },
    {
      "cell_type": "code",
      "execution_count": null,
      "metadata": {
        "id": "x3FTpb_SBpJG"
      },
      "outputs": [],
      "source": [
        "import cv2\n",
        "import numpy as np\n",
        "import matplotlib.pyplot as plt\n",
        "#caso for usar o Google Colab com a OpenCV, usar a lib abaixo\n",
        "from google.colab.patches import cv2_imshow"
      ]
    },
    {
      "cell_type": "code",
      "source": [
        "#abrir a imagem\n",
        "img = cv2.imread('t1.jpg',1)\n",
        "#caso for usar o Google Colab com a OpenCV,\n",
        "cv2_imshow(img)"
      ],
      "metadata": {
        "id": "D65vDbeWBrZm"
      },
      "execution_count": null,
      "outputs": []
    },
    {
      "cell_type": "code",
      "source": [
        "#mostrando a imagem colorida - caso você use Python no seu computador\n",
        "#reutilize para exibir as imagens em outros códigos\n",
        "#Voce pode descomentar o código apagando as aspas simples\n",
        "cv2.imshow('in', img)\n",
        "cv2.waitKey(0)\n",
        "cv2.destroyAllWindows()\n"
      ],
      "metadata": {
        "id": "J19aYnlEBsgm"
      },
      "execution_count": null,
      "outputs": []
    },
    {
      "cell_type": "code",
      "source": [
        "#aplicando conversão ponderada - converte imagem colorida para preto e branco\n",
        "#img_grayscale_basic = 0.299*img[ : , : ,0] + 0.587*img[ : , : ,1] + 0.114*img[ : , : ,2]\n",
        "\n",
        "#cv2\n",
        "B, G, R = cv2.split(img)\n",
        "img_grayscale_pondered = 0.299*B+0.587*G+0.114*R\n",
        "\n",
        "img_grayscale_pondered = np.array(img_grayscale_pondered, dtype=np.uint8)\n",
        "\n",
        "cv2_imshow(img_grayscale_pondered)"
      ],
      "metadata": {
        "id": "_Jt2eLeXBwx-"
      },
      "execution_count": null,
      "outputs": []
    },
    {
      "cell_type": "code",
      "source": [
        "#negativo\n",
        "\n",
        "#img_negative[ : , : ,0] = 255 - img[ : , : ,0]\n",
        "#img_negative[ : , : ,1] = 255 - img[ : , : ,1]\n",
        "#img_negative[ : , : ,2] = 255 - img[ : , : ,2]\n",
        "\n",
        "#Mude a variavel colorida para 1 caso queira colorida, o para 0 caso queira em escala de cinza\n",
        "colorida = 1\n",
        "img_in = cv2.imread('t1.jpg',colorida)\n",
        "\n",
        "img_out = 255 - img_in\n",
        "\n",
        "cv2_imshow(img_in)\n",
        "cv2_imshow(img_out)"
      ],
      "metadata": {
        "id": "cykerrruBxWG"
      },
      "execution_count": null,
      "outputs": []
    },
    {
      "cell_type": "code",
      "source": [
        "#contraste e brilho\n",
        "img_in = cv2.imread('t1.jpg',0)\n",
        "#altere os valores tanto de a quanto de b\n",
        "\n",
        "a = -1 \n",
        "b = 1\n",
        "\n",
        "img_out = a*img_in + b\n",
        "\n",
        "img_out = np.array(img_out, dtype = np.uint8)\n",
        "\n",
        "cv2_imshow(img_in)\n",
        "cv2_imshow(img_out)"
      ],
      "metadata": {
        "id": "iVH4ibKbByts"
      },
      "execution_count": null,
      "outputs": []
    },
    {
      "cell_type": "code",
      "source": [
        "#suavização\n",
        "#você pode ler sobre o conceito aqui: https://docs.opencv.org/4.x/d4/d13/tutorial_py_filtering.html\n",
        "img_in = cv2.imread('t1.jpg',0)\n",
        "\n",
        "kernel = np.ones((5,5),np.float32)/25\n",
        "\n",
        "img_out_1 = cv2.filter2D(img_in,-1,kernel)\n",
        "\n",
        "\n",
        "cv2_imshow(img_in)\n",
        "cv2_imshow(img_out_1)"
      ],
      "metadata": {
        "id": "9l0pxOQ4Byob"
      },
      "execution_count": null,
      "outputs": []
    }
  ]
}